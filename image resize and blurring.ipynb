{
 "cells": [
  {
   "cell_type": "code",
   "execution_count": 11,
   "id": "c67ad465",
   "metadata": {},
   "outputs": [],
   "source": [
    "import cv2\n",
    "import numpy as np"
   ]
  },
  {
   "cell_type": "markdown",
   "id": "7ecd6932",
   "metadata": {},
   "source": [
    "# reading image"
   ]
  },
  {
   "cell_type": "code",
   "execution_count": 2,
   "id": "cf90a0d9",
   "metadata": {},
   "outputs": [],
   "source": [
    "img=cv2.imread('pic.jpg')"
   ]
  },
  {
   "cell_type": "markdown",
   "id": "84a681d4",
   "metadata": {},
   "source": [
    "# shape of image"
   ]
  },
  {
   "cell_type": "code",
   "execution_count": 3,
   "id": "8aadde2b",
   "metadata": {},
   "outputs": [
    {
     "name": "stdout",
     "output_type": "stream",
     "text": [
      "(372, 612, 3)\n"
     ]
    }
   ],
   "source": [
    "print(img.shape)"
   ]
  },
  {
   "cell_type": "code",
   "execution_count": 4,
   "id": "ccd8f88e",
   "metadata": {},
   "outputs": [
    {
     "data": {
      "text/plain": [
       "-1"
      ]
     },
     "execution_count": 4,
     "metadata": {},
     "output_type": "execute_result"
    }
   ],
   "source": [
    "cv2.imshow(\"img\",img)\n",
    "cv2.waitKey(0)"
   ]
  },
  {
   "cell_type": "markdown",
   "id": "35b1631d",
   "metadata": {},
   "source": [
    "# resize image"
   ]
  },
  {
   "cell_type": "code",
   "execution_count": 5,
   "id": "b9a08a22",
   "metadata": {},
   "outputs": [],
   "source": [
    "img_res = cv2.resize(img,None,fx=2,fy=2,interpolation =cv2.INTER_AREA)"
   ]
  },
  {
   "cell_type": "code",
   "execution_count": 6,
   "id": "1267059f",
   "metadata": {},
   "outputs": [
    {
     "data": {
      "text/plain": [
       "-1"
      ]
     },
     "execution_count": 6,
     "metadata": {},
     "output_type": "execute_result"
    }
   ],
   "source": [
    "cv2.imshow(\"img\",img_res)\n",
    "cv2.waitKey(0)"
   ]
  },
  {
   "cell_type": "code",
   "execution_count": 7,
   "id": "af055f69",
   "metadata": {},
   "outputs": [
    {
     "name": "stdout",
     "output_type": "stream",
     "text": [
      "(744, 1224, 3)\n"
     ]
    }
   ],
   "source": [
    "print(img_res.shape)"
   ]
  },
  {
   "cell_type": "markdown",
   "id": "fedc8ae9",
   "metadata": {},
   "source": [
    " # another type to resize"
   ]
  },
  {
   "cell_type": "code",
   "execution_count": 8,
   "id": "baf53637",
   "metadata": {},
   "outputs": [],
   "source": [
    "img2 = cv2.resize(img,(500,500))"
   ]
  },
  {
   "cell_type": "code",
   "execution_count": 9,
   "id": "2b6f42c6",
   "metadata": {},
   "outputs": [
    {
     "data": {
      "text/plain": [
       "-1"
      ]
     },
     "execution_count": 9,
     "metadata": {},
     "output_type": "execute_result"
    }
   ],
   "source": [
    "cv2.imshow(\"img\",img2)\n",
    "cv2.waitKey(0)"
   ]
  },
  {
   "cell_type": "markdown",
   "id": "353fc32d",
   "metadata": {},
   "source": [
    "# BLURING OR SMOOTHING"
   ]
  },
  {
   "cell_type": "markdown",
   "id": "3dee847f",
   "metadata": {},
   "source": [
    "#  2D CONVOLUTION"
   ]
  },
  {
   "cell_type": "markdown",
   "id": "a3b561a7",
   "metadata": {},
   "source": [
    "# kernal"
   ]
  },
  {
   "cell_type": "code",
   "execution_count": 22,
   "id": "f606d862",
   "metadata": {},
   "outputs": [],
   "source": [
    "kernal = np.ones((5,5),float)/25"
   ]
  },
  {
   "cell_type": "markdown",
   "id": "af3243c9",
   "metadata": {},
   "source": [
    "# 2D Filter"
   ]
  },
  {
   "cell_type": "code",
   "execution_count": 43,
   "id": "1a53171c",
   "metadata": {},
   "outputs": [],
   "source": [
    "tdf = cv2.filter2D(img_res,-1,kernal)"
   ]
  },
  {
   "cell_type": "markdown",
   "id": "4eecd307",
   "metadata": {},
   "source": [
    "# 2D Filtering display"
   ]
  },
  {
   "cell_type": "code",
   "execution_count": 62,
   "id": "bb20dd6a",
   "metadata": {},
   "outputs": [
    {
     "data": {
      "text/plain": [
       "-1"
      ]
     },
     "execution_count": 62,
     "metadata": {},
     "output_type": "execute_result"
    }
   ],
   "source": [
    "cv2.imshow(\"img\",img_res)\n",
    "cv2.waitKey(0)\n",
    "cv2.imshow(\"2d filtered img\",tdf)\n",
    "cv2.waitKey(0)"
   ]
  },
  {
   "cell_type": "markdown",
   "id": "8c89be12",
   "metadata": {},
   "source": [
    "# IMAGE BLUR AVERAGE"
   ]
  },
  {
   "cell_type": "code",
   "execution_count": 55,
   "id": "ec379074",
   "metadata": {},
   "outputs": [],
   "source": [
    "AVG =cv2.blur(img,(10,10))"
   ]
  },
  {
   "cell_type": "code",
   "execution_count": 56,
   "id": "6a53a3d8",
   "metadata": {},
   "outputs": [
    {
     "data": {
      "text/plain": [
       "-1"
      ]
     },
     "execution_count": 56,
     "metadata": {},
     "output_type": "execute_result"
    }
   ],
   "source": [
    "cv2.imshow(\"img\",img)\n",
    "cv2.waitKey(0)\n",
    "cv2.imshow(\"AVG\",AVG)\n",
    "cv2.waitKey(0)"
   ]
  },
  {
   "cell_type": "markdown",
   "id": "28f80e67",
   "metadata": {},
   "source": [
    " # Image blur- Gaussian Filter"
   ]
  },
  {
   "cell_type": "code",
   "execution_count": 67,
   "id": "a7803c66",
   "metadata": {},
   "outputs": [],
   "source": [
    "guass=cv2.GaussianBlur(img_res,(3,3),0)"
   ]
  },
  {
   "cell_type": "code",
   "execution_count": 68,
   "id": "251c677b",
   "metadata": {},
   "outputs": [
    {
     "data": {
      "text/plain": [
       "-1"
      ]
     },
     "execution_count": 68,
     "metadata": {},
     "output_type": "execute_result"
    }
   ],
   "source": [
    "cv2.imshow(\"img\",guass)\n",
    "cv2.waitKey(0)\n"
   ]
  },
  {
   "cell_type": "code",
   "execution_count": null,
   "id": "05f33a34",
   "metadata": {},
   "outputs": [],
   "source": []
  },
  {
   "cell_type": "code",
   "execution_count": null,
   "id": "a1762960",
   "metadata": {},
   "outputs": [],
   "source": []
  },
  {
   "cell_type": "code",
   "execution_count": null,
   "id": "ecc0d1a9",
   "metadata": {},
   "outputs": [],
   "source": []
  },
  {
   "cell_type": "code",
   "execution_count": null,
   "id": "7fd003d3",
   "metadata": {},
   "outputs": [],
   "source": []
  },
  {
   "cell_type": "code",
   "execution_count": null,
   "id": "13466f94",
   "metadata": {},
   "outputs": [],
   "source": []
  }
 ],
 "metadata": {
  "kernelspec": {
   "display_name": "Python 3 (ipykernel)",
   "language": "python",
   "name": "python3"
  },
  "language_info": {
   "codemirror_mode": {
    "name": "ipython",
    "version": 3
   },
   "file_extension": ".py",
   "mimetype": "text/x-python",
   "name": "python",
   "nbconvert_exporter": "python",
   "pygments_lexer": "ipython3",
   "version": "3.9.16"
  }
 },
 "nbformat": 4,
 "nbformat_minor": 5
}
