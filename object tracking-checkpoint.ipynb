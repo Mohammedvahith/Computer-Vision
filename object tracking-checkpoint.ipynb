{
 "cells": [
  {
   "cell_type": "markdown",
   "id": "4c87b528",
   "metadata": {},
   "source": [
    "# importing library"
   ]
  },
  {
   "cell_type": "code",
   "execution_count": 1,
   "id": "af139da3",
   "metadata": {},
   "outputs": [],
   "source": [
    "import cv2"
   ]
  },
  {
   "cell_type": "code",
   "execution_count": 2,
   "id": "863bd3be",
   "metadata": {},
   "outputs": [],
   "source": [
    "#pip install --user opencv-contrib-python"
   ]
  },
  {
   "cell_type": "markdown",
   "id": "b8856dc7",
   "metadata": {},
   "source": [
    "# video capture"
   ]
  },
  {
   "cell_type": "code",
   "execution_count": 3,
   "id": "cced4393",
   "metadata": {},
   "outputs": [],
   "source": [
    "cap = cv2.VideoCapture(\"vidd.mp4\")"
   ]
  },
  {
   "cell_type": "markdown",
   "id": "9e86a025",
   "metadata": {},
   "source": [
    "# bounding box"
   ]
  },
  {
   "cell_type": "code",
   "execution_count": 4,
   "id": "5d434fd4",
   "metadata": {},
   "outputs": [],
   "source": [
    "def drawbox(img,bbox):\n",
    "    x, y, w, h = int(bbox[0]),int(bbox[1]),int(bbox[2]),int(bbox[3])\n",
    "    cv2.rectangle(img,(x,y),((x+w),(y+h)),(255,0,255),1)\n",
    "    cv2.putText(img,\"vahith\",(75,75),cv2.FONT_HERSHEY_SIMPLEX,0.7,(0,255,0),2)"
   ]
  },
  {
   "cell_type": "markdown",
   "id": "13fbf9ef",
   "metadata": {},
   "source": [
    "# TRACKING METHODS\n",
    "CSRT KCF MedianFlow TLD MOSSE GOTURN"
   ]
  },
  {
   "cell_type": "code",
   "execution_count": 5,
   "id": "421b1e5b",
   "metadata": {},
   "outputs": [],
   "source": [
    "#tracker= cv2.legacy.TrackerMedianFlow_create()\n",
    "tracker= cv2.legacy.TrackerMOSSE_create()\n",
    "#tracker= cv2.legacy.TrackerCSRT_create()\n",
    "sucess, img = cap.read()\n",
    "bbox = cv2.selectROI(\"vahith\",img,False)\n",
    "tracker.init(img,bbox)\n",
    "\n",
    "while True:\n",
    "    timer = cv2.getTickCount()\n",
    "    sucess, img = cap.read()\n",
    "    \n",
    "    sucess, bbox = tracker.update(img)\n",
    "    \n",
    "    if sucess:\n",
    "       drawbox(img,bbox)\n",
    "    else:\n",
    "        cv2.putText(img,\"Lost\",(75,75),cv2.FONT_HERSHEY_SIMPLEX,0.5,(0,0,255),2)\n",
    "    \n",
    "    fps = cv2.getTickFrequency()/(cv2.getTickCount()-timer)\n",
    "    cv2.putText(img,str(int(fps)),(70,50),cv2.FONT_HERSHEY_COMPLEX,0.7,(0,0,255),2)\n",
    "    \n",
    "    cv2.imshow(\"Tracking\",img)\n",
    "    \n",
    "    if cv2.waitKey(1)  & 0xff == ord('q'):\n",
    "        break\n",
    "    \n",
    "cap.release()\n",
    "cv2.destroyAllWindows()"
   ]
  },
  {
   "cell_type": "code",
   "execution_count": null,
   "id": "bf2530b1",
   "metadata": {},
   "outputs": [],
   "source": []
  },
  {
   "cell_type": "code",
   "execution_count": null,
   "id": "0ea66dbf",
   "metadata": {},
   "outputs": [],
   "source": []
  }
 ],
 "metadata": {
  "kernelspec": {
   "display_name": "Python 3 (ipykernel)",
   "language": "python",
   "name": "python3"
  },
  "language_info": {
   "codemirror_mode": {
    "name": "ipython",
    "version": 3
   },
   "file_extension": ".py",
   "mimetype": "text/x-python",
   "name": "python",
   "nbconvert_exporter": "python",
   "pygments_lexer": "ipython3",
   "version": "3.9.16"
  }
 },
 "nbformat": 4,
 "nbformat_minor": 5
}
