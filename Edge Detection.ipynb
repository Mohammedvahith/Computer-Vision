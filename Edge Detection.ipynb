{
 "cells": [
  {
   "cell_type": "code",
   "execution_count": 1,
   "id": "cde5dff5",
   "metadata": {},
   "outputs": [],
   "source": [
    "import cv2\n",
    "import numpy as n\n",
    "from matplotlib import pyplot as py"
   ]
  },
  {
   "cell_type": "code",
   "execution_count": 2,
   "id": "740896d5",
   "metadata": {},
   "outputs": [],
   "source": [
    "img=cv2.imread('pic.jpg',0)"
   ]
  },
  {
   "cell_type": "code",
   "execution_count": 3,
   "id": "cdeff602",
   "metadata": {},
   "outputs": [],
   "source": [
    "# Canny Edge\n",
    "canny=cv2.Canny(img,55,60)"
   ]
  },
  {
   "cell_type": "code",
   "execution_count": 4,
   "id": "fdf82377",
   "metadata": {},
   "outputs": [
    {
     "data": {
      "text/plain": [
       "-1"
      ]
     },
     "execution_count": 4,
     "metadata": {},
     "output_type": "execute_result"
    }
   ],
   "source": [
    "cv2.imshow(\"org\",img)\n",
    "cv2.imshow(\"can\",canny)\n",
    "cv2.waitKey(0)"
   ]
  },
  {
   "cell_type": "markdown",
   "id": "4f5e2730",
   "metadata": {},
   "source": [
    "# Edge Detection for Video"
   ]
  },
  {
   "cell_type": "code",
   "execution_count": 6,
   "id": "f088a580",
   "metadata": {},
   "outputs": [],
   "source": [
    "vid=cv2.VideoCapture(\"video.mp4\")\n",
    "while(1):\n",
    "    ret,frame=vid.read()\n",
    "    gray=cv2.cvtColor(frame,cv2.COLOR_BGR2GRAY)\n",
    "    cv2.imshow(\"nature\",frame)\n",
    "    edges=cv2.Canny(frame,100,200)\n",
    "    cv2.imshow(\"edges\",edges)\n",
    "    if cv2.waitKey(5)& 0xFF==ord('a'):\n",
    "        break\n",
    "vid.release()\n",
    "cv2.destroyAllWindows()"
   ]
  }
 ],
 "metadata": {
  "kernelspec": {
   "display_name": "Python 3 (ipykernel)",
   "language": "python",
   "name": "python3"
  },
  "language_info": {
   "codemirror_mode": {
    "name": "ipython",
    "version": 3
   },
   "file_extension": ".py",
   "mimetype": "text/x-python",
   "name": "python",
   "nbconvert_exporter": "python",
   "pygments_lexer": "ipython3",
   "version": "3.9.16"
  }
 },
 "nbformat": 4,
 "nbformat_minor": 5
}
