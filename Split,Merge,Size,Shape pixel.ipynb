{
 "cells": [
  {
   "cell_type": "code",
   "execution_count": 3,
   "id": "e71dbc60",
   "metadata": {},
   "outputs": [
    {
     "name": "stdout",
     "output_type": "stream",
     "text": [
      "Collecting opencv-pythonNote: you may need to restart the kernel to use updated packages.\n",
      "\n",
      "  Using cached opencv_python-4.7.0.68-cp37-abi3-win_amd64.whl (38.2 MB)\n",
      "Collecting numpy>=1.17.3\n",
      "  Downloading numpy-1.24.1-cp39-cp39-win_amd64.whl (14.9 MB)\n",
      "     ---------------------------------------- 14.9/14.9 MB 9.8 MB/s eta 0:00:00\n",
      "Installing collected packages: numpy, opencv-python\n",
      "Successfully installed numpy-1.24.1 opencv-python-4.7.0.68\n"
     ]
    }
   ],
   "source": [
    "pip install opencv-python"
   ]
  },
  {
   "cell_type": "code",
   "execution_count": 1,
   "id": "df2ca248",
   "metadata": {
    "scrolled": true
   },
   "outputs": [],
   "source": [
    "import cv2"
   ]
  },
  {
   "cell_type": "code",
   "execution_count": 19,
   "id": "a24a8c75",
   "metadata": {},
   "outputs": [],
   "source": [
    "img=cv2.imread('image.webp')"
   ]
  },
  {
   "cell_type": "code",
   "execution_count": 53,
   "id": "294ac009",
   "metadata": {},
   "outputs": [],
   "source": [
    "cv2.imshow(\"image\",img)\n",
    "cv2.waitKey(0)\n",
    "cv2.destroyAllWindows()"
   ]
  },
  {
   "cell_type": "code",
   "execution_count": 28,
   "id": "767dfe2c",
   "metadata": {},
   "outputs": [],
   "source": [
    "grey=cv2.imread(\"C:/Users/SN151/vahith/image.webp\",0)"
   ]
  },
  {
   "cell_type": "code",
   "execution_count": 52,
   "id": "0349d984",
   "metadata": {},
   "outputs": [],
   "source": [
    "cv2.imshow(\"grey\",grey)\n",
    "cv2.waitKey(0)\n",
    "cv2.destroyAllWindows()"
   ]
  },
  {
   "cell_type": "code",
   "execution_count": 14,
   "id": "d57be350",
   "metadata": {},
   "outputs": [
    {
     "name": "stdout",
     "output_type": "stream",
     "text": [
      "(667, 1000, 3)\n"
     ]
    }
   ],
   "source": [
    "shp=img.shape\n",
    "print(shp)"
   ]
  },
  {
   "cell_type": "code",
   "execution_count": 30,
   "id": "01c43d99",
   "metadata": {},
   "outputs": [
    {
     "data": {
      "text/plain": [
       "True"
      ]
     },
     "execution_count": 30,
     "metadata": {},
     "output_type": "execute_result"
    }
   ],
   "source": [
    "cv2.imwrite('C:/Users/SN151/Downloads/i.webp',grey)"
   ]
  },
  {
   "cell_type": "markdown",
   "id": "4dda4a32",
   "metadata": {},
   "source": [
    " # size of image\n",
    " "
   ]
  },
  {
   "cell_type": "code",
   "execution_count": 31,
   "id": "aff4061a",
   "metadata": {},
   "outputs": [],
   "source": [
    "sz=img.size"
   ]
  },
  {
   "cell_type": "code",
   "execution_count": 33,
   "id": "0d48b510",
   "metadata": {},
   "outputs": [
    {
     "name": "stdout",
     "output_type": "stream",
     "text": [
      "974286\n"
     ]
    }
   ],
   "source": [
    "print(sz)"
   ]
  },
  {
   "cell_type": "markdown",
   "id": "6d920c55",
   "metadata": {},
   "source": [
    "# value of an pixel"
   ]
  },
  {
   "cell_type": "code",
   "execution_count": 34,
   "id": "5398a0dc",
   "metadata": {},
   "outputs": [],
   "source": [
    "px=img[400,200]"
   ]
  },
  {
   "cell_type": "code",
   "execution_count": 44,
   "id": "8f830273",
   "metadata": {
    "scrolled": true
   },
   "outputs": [
    {
     "name": "stdout",
     "output_type": "stream",
     "text": [
      "[34 34 48]\n"
     ]
    }
   ],
   "source": [
    "print(px)"
   ]
  },
  {
   "cell_type": "markdown",
   "id": "123493d2",
   "metadata": {},
   "source": [
    "# splitting an image"
   ]
  },
  {
   "cell_type": "code",
   "execution_count": 43,
   "id": "d7fd924e",
   "metadata": {},
   "outputs": [
    {
     "data": {
      "text/plain": [
       "-1"
      ]
     },
     "execution_count": 43,
     "metadata": {},
     "output_type": "execute_result"
    }
   ],
   "source": [
    "b,g,r=cv2.split(img)\n",
    "cv2.imshow(\"b\",b)\n",
    "cv2.waitKey(0)\n",
    "cv2.imshow(\"g\",g)\n",
    "cv2.waitKey(0)\n",
    "cv2.imshow(\"r\",r)\n",
    "cv2.waitKey(0)"
   ]
  },
  {
   "cell_type": "markdown",
   "id": "ecb57bdd",
   "metadata": {},
   "source": [
    "# merging an image"
   ]
  },
  {
   "cell_type": "code",
   "execution_count": 51,
   "id": "e9f2dad7",
   "metadata": {},
   "outputs": [],
   "source": [
    "mer=cv2.merge((b,g,r))\n",
    "cv2.imshow(\"merge\",mer)\n",
    "cv2.waitKey(0)\n",
    "cv2.destroyAllWindows()"
   ]
  }
 ],
 "metadata": {
  "kernelspec": {
   "display_name": "Python 3 (ipykernel)",
   "language": "python",
   "name": "python3"
  },
  "language_info": {
   "codemirror_mode": {
    "name": "ipython",
    "version": 3
   },
   "file_extension": ".py",
   "mimetype": "text/x-python",
   "name": "python",
   "nbconvert_exporter": "python",
   "pygments_lexer": "ipython3",
   "version": "3.9.16"
  }
 },
 "nbformat": 4,
 "nbformat_minor": 5
}
