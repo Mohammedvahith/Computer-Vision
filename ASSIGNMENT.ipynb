{
 "cells": [
  {
   "cell_type": "code",
   "execution_count": 1,
   "id": "326d420c",
   "metadata": {},
   "outputs": [],
   "source": [
    "import cv2\n",
    "import numpy as np"
   ]
  },
  {
   "cell_type": "markdown",
   "id": "cf1ed7bd",
   "metadata": {},
   "source": [
    "# GET IMAGE"
   ]
  },
  {
   "cell_type": "code",
   "execution_count": 2,
   "id": "49773a3b",
   "metadata": {},
   "outputs": [
    {
     "data": {
      "text/plain": [
       "-1"
      ]
     },
     "execution_count": 2,
     "metadata": {},
     "output_type": "execute_result"
    }
   ],
   "source": [
    "img = cv2.imread(\"img0.jpg\")\n",
    "cv2.imshow('original',img)\n",
    "cv2.waitKey(0)"
   ]
  },
  {
   "cell_type": "markdown",
   "id": "caf9e2c4",
   "metadata": {},
   "source": [
    "# RESIZE IMAGE"
   ]
  },
  {
   "cell_type": "code",
   "execution_count": 3,
   "id": "2d45b0ca",
   "metadata": {
    "scrolled": true
   },
   "outputs": [
    {
     "data": {
      "text/plain": [
       "True"
      ]
     },
     "execution_count": 3,
     "metadata": {},
     "output_type": "execute_result"
    }
   ],
   "source": [
    "re=cv2.resize(img,(1000,800))\n",
    "cv2.imshow(\"resize\",re)\n",
    "cv2.waitKey(0)\n",
    "cv2.destroyAllWindows()\n",
    "cv2.imwrite(\"C:/Users/aedpu/ASHIK 1/resize image.jpg\",re)"
   ]
  },
  {
   "cell_type": "markdown",
   "id": "5d69fa99",
   "metadata": {},
   "source": [
    "# GREY SCALE"
   ]
  },
  {
   "cell_type": "code",
   "execution_count": 4,
   "id": "8a79714d",
   "metadata": {},
   "outputs": [
    {
     "data": {
      "text/plain": [
       "-1"
      ]
     },
     "execution_count": 4,
     "metadata": {},
     "output_type": "execute_result"
    }
   ],
   "source": [
    "img1g=cv2.cvtColor(re,cv2.COLOR_BGR2GRAY)\n",
    "cv2.imshow('grey',img1g)\n",
    "cv2.waitKey(0)"
   ]
  },
  {
   "cell_type": "code",
   "execution_count": 5,
   "id": "83f7f3f5",
   "metadata": {},
   "outputs": [],
   "source": [
    "# ANOTHER METHOD OF GRAY SCALE IMAGE \n",
    "# FIRST WE HAVE TO SAVE THE RE SIZE IMAGE "
   ]
  },
  {
   "cell_type": "code",
   "execution_count": 6,
   "id": "c029a103",
   "metadata": {},
   "outputs": [
    {
     "data": {
      "text/plain": [
       "-1"
      ]
     },
     "execution_count": 6,
     "metadata": {},
     "output_type": "execute_result"
    }
   ],
   "source": [
    "g=cv2.imread(\"resize image.jpg\",0)\n",
    "cv2.imshow('grey',g)\n",
    "cv2.waitKey(0)"
   ]
  },
  {
   "cell_type": "markdown",
   "id": "df723e4f",
   "metadata": {},
   "source": [
    "# SHAPE OF THE IMAGE"
   ]
  },
  {
   "cell_type": "code",
   "execution_count": 7,
   "id": "915cf39f",
   "metadata": {},
   "outputs": [
    {
     "name": "stdout",
     "output_type": "stream",
     "text": [
      "(400, 673, 3)\n"
     ]
    }
   ],
   "source": [
    "shp=img.shape\n",
    "print(shp)"
   ]
  },
  {
   "cell_type": "markdown",
   "id": "2f21395c",
   "metadata": {},
   "source": [
    "# SIZE OF THE IMAGE"
   ]
  },
  {
   "cell_type": "code",
   "execution_count": 8,
   "id": "955f8a7e",
   "metadata": {},
   "outputs": [
    {
     "name": "stdout",
     "output_type": "stream",
     "text": [
      "807600\n"
     ]
    }
   ],
   "source": [
    "si=img.size\n",
    "print(si)"
   ]
  },
  {
   "cell_type": "markdown",
   "id": "a380aa5c",
   "metadata": {},
   "source": [
    "# PIXEL SIZE "
   ]
  },
  {
   "cell_type": "code",
   "execution_count": 9,
   "id": "6c59c3bf",
   "metadata": {},
   "outputs": [
    {
     "name": "stdout",
     "output_type": "stream",
     "text": [
      "[ 57 126 205]\n"
     ]
    }
   ],
   "source": [
    "px=img[300,400]\n",
    "print(px)"
   ]
  },
  {
   "cell_type": "markdown",
   "id": "60fc9faa",
   "metadata": {},
   "source": [
    "# SPLITTING THE IMAGE COLOR"
   ]
  },
  {
   "cell_type": "code",
   "execution_count": 10,
   "id": "a7905dcd",
   "metadata": {},
   "outputs": [
    {
     "data": {
      "text/plain": [
       "-1"
      ]
     },
     "execution_count": 10,
     "metadata": {},
     "output_type": "execute_result"
    }
   ],
   "source": [
    "b,g,r=cv2.split(re)\n",
    "cv2.imshow(\"b\",b)\n",
    "cv2.waitKey(0)\n",
    "cv2.imshow(\"g\",g)\n",
    "cv2.waitKey(0)\n",
    "cv2.imshow(\"r\",r)\n",
    "cv2.waitKey(0)"
   ]
  },
  {
   "cell_type": "markdown",
   "id": "e383f373",
   "metadata": {},
   "source": [
    "# MERGING THE IMAGE COLOR"
   ]
  },
  {
   "cell_type": "code",
   "execution_count": 11,
   "id": "ef2a08a5",
   "metadata": {},
   "outputs": [],
   "source": [
    "mer=cv2.merge((b,g,r))\n",
    "cv2.imshow(\"merge\",mer)\n",
    "cv2.waitKey(0)\n",
    "cv2.destroyAllWindows()"
   ]
  },
  {
   "cell_type": "markdown",
   "id": "a0cfe1eb",
   "metadata": {},
   "source": [
    "# IMAGE THRESHOLDING "
   ]
  },
  {
   "cell_type": "code",
   "execution_count": 12,
   "id": "ee6cd89c",
   "metadata": {},
   "outputs": [
    {
     "data": {
      "text/plain": [
       "-1"
      ]
     },
     "execution_count": 12,
     "metadata": {},
     "output_type": "execute_result"
    }
   ],
   "source": [
    "im=cv2.imread(\"th.jpg\")\n",
    "r=cv2.resize(im,(1000,800))\n",
    "i=cv2.cvtColor(r,cv2.COLOR_BGR2GRAY)\n",
    "cv2.imshow(\"resize\",r)\n",
    "cv2.imshow(\"grey\",i)\n",
    "cv2.waitKey(0)"
   ]
  },
  {
   "cell_type": "code",
   "execution_count": 13,
   "id": "9b7b738c",
   "metadata": {},
   "outputs": [],
   "source": [
    "ret,tresh6 = cv2.threshold(i,55,255,cv2.THRESH_BINARY)\n",
    "ret,tresh7 = cv2.threshold(i,55,255,cv2.THRESH_BINARY_INV)\n",
    "ret,tresh8 = cv2.threshold(i,55,255,cv2.THRESH_TRUNC)\n",
    "ret,tresh9 = cv2.threshold(i,55,255,cv2.THRESH_TOZERO)\n",
    "ret,tresh10 = cv2.threshold(i,55,255,cv2.THRESH_TOZERO_INV)"
   ]
  },
  {
   "cell_type": "code",
   "execution_count": 14,
   "id": "ea1af520",
   "metadata": {},
   "outputs": [],
   "source": [
    "cv2.imshow(\"resize\",r)\n",
    "cv2.imshow(\"THRESH_BINARY\",tresh6)\n",
    "cv2.imshow(\"THRESH_BINARY_INV\",tresh7)\n",
    "cv2.imshow(\"THRESH_TRUNC\",tresh8)\n",
    "cv2.imshow(\"THRESH_TOZERO\",tresh9)\n",
    "cv2.imshow(\"THRESH_TOZERO_INV\",tresh10)\n",
    "cv2.waitKey(0)\n",
    "cv2.destroyAllWindows()"
   ]
  },
  {
   "cell_type": "markdown",
   "id": "14618332",
   "metadata": {},
   "source": [
    "# MEDIAN FILTER"
   ]
  },
  {
   "cell_type": "code",
   "execution_count": 15,
   "id": "16541624",
   "metadata": {},
   "outputs": [],
   "source": [
    "imgm =cv2.medianBlur(i,1)"
   ]
  },
  {
   "cell_type": "code",
   "execution_count": 16,
   "id": "98fe32f5",
   "metadata": {},
   "outputs": [
    {
     "data": {
      "text/plain": [
       "-1"
      ]
     },
     "execution_count": 16,
     "metadata": {},
     "output_type": "execute_result"
    }
   ],
   "source": [
    "cv2.imshow(\"medianBlur\",imgm)\n",
    "cv2.waitKey()"
   ]
  },
  {
   "cell_type": "markdown",
   "id": "ffa3b614",
   "metadata": {},
   "source": [
    "# SIMPLE THRESHOLDING"
   ]
  },
  {
   "cell_type": "code",
   "execution_count": 17,
   "id": "889a115b",
   "metadata": {},
   "outputs": [],
   "source": [
    "img1g=cv2.cvtColor(r,cv2.COLOR_BGR2GRAY)"
   ]
  },
  {
   "cell_type": "code",
   "execution_count": 18,
   "id": "c75778e7",
   "metadata": {},
   "outputs": [],
   "source": [
    "ret,th1 =cv2.threshold(img1g,55,255,cv2.THRESH_BINARY)\n",
    "ath1 =cv2.adaptiveThreshold(img1g,255,cv2.ADAPTIVE_THRESH_MEAN_C,cv2.THRESH_BINARY,11,2)\n",
    "ath2 =cv2.adaptiveThreshold(img1g,255,cv2.ADAPTIVE_THRESH_GAUSSIAN_C,cv2.THRESH_BINARY,11,2)"
   ]
  },
  {
   "cell_type": "code",
   "execution_count": 19,
   "id": "4b9070af",
   "metadata": {},
   "outputs": [],
   "source": [
    "cv2.imshow(\"original\", img1g)\n",
    "cv2.imshow(\"global\", th1)\n",
    "cv2.imshow(\"adaptive mean\", ath1)\n",
    "cv2.imshow(\"adaptive gaussian\", ath2)\n",
    "cv2.waitKey()\n",
    "cv2.destroyAllWindows()"
   ]
  },
  {
   "cell_type": "markdown",
   "id": "90492f14",
   "metadata": {},
   "source": [
    "# OTSU THRESHOLDING"
   ]
  },
  {
   "cell_type": "code",
   "execution_count": 23,
   "id": "3bba80e0",
   "metadata": {},
   "outputs": [],
   "source": [
    "re,THRESH = cv2.threshold(img1g,55,255,cv2.THRESH_BINARY)"
   ]
  },
  {
   "cell_type": "code",
   "execution_count": 24,
   "id": "ec8c1ff8",
   "metadata": {},
   "outputs": [],
   "source": [
    "re,otsu = cv2.threshold(img1g,0,255,cv2.THRESH_OTSU)"
   ]
  },
  {
   "cell_type": "code",
   "execution_count": 25,
   "id": "a22d08e1",
   "metadata": {},
   "outputs": [],
   "source": [
    "cv2.imshow(\"original\", img1g)\n",
    "cv2.imshow(\"THRESH\", THRESH)\n",
    "cv2.imshow(\"otsu\", otsu)\n",
    "cv2.waitKey()\n",
    "cv2.destroyAllWindows()"
   ]
  },
  {
   "cell_type": "markdown",
   "id": "6c53a184",
   "metadata": {},
   "source": [
    "# BLURING OR SMOOTHING"
   ]
  },
  {
   "cell_type": "markdown",
   "id": "dfc0012f",
   "metadata": {},
   "source": [
    "# 2D CONVOLUTION"
   ]
  },
  {
   "cell_type": "markdown",
   "id": "f6121ad6",
   "metadata": {},
   "source": [
    " # kernal"
   ]
  },
  {
   "cell_type": "code",
   "execution_count": 26,
   "id": "5655ad5b",
   "metadata": {},
   "outputs": [],
   "source": [
    "kernal = np.ones((5,5),float)/25"
   ]
  },
  {
   "cell_type": "markdown",
   "id": "e3fb33d0",
   "metadata": {},
   "source": [
    "# 2D FILTER"
   ]
  },
  {
   "cell_type": "code",
   "execution_count": 30,
   "id": "1c73225c",
   "metadata": {},
   "outputs": [],
   "source": [
    "D = cv2.imread(\"img7.jpg\")"
   ]
  },
  {
   "cell_type": "code",
   "execution_count": 31,
   "id": "d9e64ad9",
   "metadata": {},
   "outputs": [],
   "source": [
    "tdf = cv2.filter2D(D,-1,kernal)"
   ]
  },
  {
   "cell_type": "code",
   "execution_count": 32,
   "id": "551a9947",
   "metadata": {},
   "outputs": [
    {
     "data": {
      "text/plain": [
       "-1"
      ]
     },
     "execution_count": 32,
     "metadata": {},
     "output_type": "execute_result"
    }
   ],
   "source": [
    "cv2.imshow(\"img\",D)\n",
    "cv2.waitKey(0)\n",
    "cv2.imshow(\"2d filtered img\",tdf)\n",
    "cv2.waitKey(0)"
   ]
  },
  {
   "cell_type": "markdown",
   "id": "10b72716",
   "metadata": {},
   "source": [
    "#  BLUR AVERAGE"
   ]
  },
  {
   "cell_type": "code",
   "execution_count": 34,
   "id": "513f0273",
   "metadata": {},
   "outputs": [],
   "source": [
    "AVG=cv2.blur(D,(10,10))"
   ]
  },
  {
   "cell_type": "code",
   "execution_count": 47,
   "id": "839edea8",
   "metadata": {},
   "outputs": [
    {
     "data": {
      "text/plain": [
       "-1"
      ]
     },
     "execution_count": 47,
     "metadata": {},
     "output_type": "execute_result"
    }
   ],
   "source": [
    "cv2.imshow(\"BLUR AVERAGE\",AVG)\n",
    "cv2.waitKey(0)"
   ]
  },
  {
   "cell_type": "markdown",
   "id": "6568efe4",
   "metadata": {},
   "source": [
    "# MEDIAN FILTER"
   ]
  },
  {
   "cell_type": "code",
   "execution_count": 40,
   "id": "5a6a2da4",
   "metadata": {},
   "outputs": [],
   "source": [
    "mf =cv2.medianBlur(D,1)"
   ]
  },
  {
   "cell_type": "code",
   "execution_count": 48,
   "id": "6dfa285b",
   "metadata": {},
   "outputs": [
    {
     "data": {
      "text/plain": [
       "-1"
      ]
     },
     "execution_count": 48,
     "metadata": {},
     "output_type": "execute_result"
    }
   ],
   "source": [
    "cv2.imshow(\"medianBlur\",mf)\n",
    "cv2.waitKey()"
   ]
  },
  {
   "cell_type": "markdown",
   "id": "bdcdc6d6",
   "metadata": {},
   "source": [
    "# GUASSIAN FILTER"
   ]
  },
  {
   "cell_type": "code",
   "execution_count": 58,
   "id": "c58ea462",
   "metadata": {},
   "outputs": [],
   "source": [
    "guass=cv2.GaussianBlur(D,(11,11),0)"
   ]
  },
  {
   "cell_type": "code",
   "execution_count": 59,
   "id": "b7924168",
   "metadata": {},
   "outputs": [
    {
     "data": {
      "text/plain": [
       "-1"
      ]
     },
     "execution_count": 59,
     "metadata": {},
     "output_type": "execute_result"
    }
   ],
   "source": [
    "cv2.imshow(\"GaussianBlur\",guass)\n",
    "cv2.waitKey()"
   ]
  }
 ],
 "metadata": {
  "kernelspec": {
   "display_name": "Python 3 (ipykernel)",
   "language": "python",
   "name": "python3"
  },
  "language_info": {
   "codemirror_mode": {
    "name": "ipython",
    "version": 3
   },
   "file_extension": ".py",
   "mimetype": "text/x-python",
   "name": "python",
   "nbconvert_exporter": "python",
   "pygments_lexer": "ipython3",
   "version": "3.9.16"
  }
 },
 "nbformat": 4,
 "nbformat_minor": 5
}
