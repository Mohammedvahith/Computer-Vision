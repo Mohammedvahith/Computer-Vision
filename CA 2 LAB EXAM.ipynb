{
 "cells": [
  {
   "cell_type": "code",
   "execution_count": 1,
   "id": "d9e5aa65",
   "metadata": {},
   "outputs": [],
   "source": [
    "#pip install opencv-python"
   ]
  },
  {
   "cell_type": "code",
   "execution_count": 2,
   "id": "ad05d6d6",
   "metadata": {},
   "outputs": [],
   "source": [
    "import cv2\n",
    "import numpy as np\n",
    "import matplotlib.pyplot as plt"
   ]
  },
  {
   "cell_type": "code",
   "execution_count": 3,
   "id": "52052f0a",
   "metadata": {},
   "outputs": [],
   "source": [
    "image = cv2.imread(\"C:/Users/aedpu/AI AND ML/computer-vision-AI/computer-vision-AI/vijay.jpg\")"
   ]
  },
  {
   "cell_type": "code",
   "execution_count": 4,
   "id": "168be078",
   "metadata": {},
   "outputs": [],
   "source": [
    "cv2.imshow(\"img\",image)\n",
    "cv2.waitKey(0)\n",
    "cv2.destroyAllWindows()"
   ]
  },
  {
   "cell_type": "code",
   "execution_count": 5,
   "id": "e9813055",
   "metadata": {},
   "outputs": [],
   "source": [
    "img2rgb = cv2.cvtColor(image,cv2.COLOR_BGR2RGB)"
   ]
  },
  {
   "cell_type": "code",
   "execution_count": 6,
   "id": "9ddb0cb4",
   "metadata": {},
   "outputs": [],
   "source": [
    "cv2.imshow(\"img2rgb\",img2rgb)\n",
    "cv2.waitKey(0)\n",
    "cv2.destroyAllWindows()"
   ]
  },
  {
   "cell_type": "code",
   "execution_count": 7,
   "id": "da2b1eb3",
   "metadata": {},
   "outputs": [],
   "source": [
    "RE = img2rgb.reshape((-1,3))"
   ]
  },
  {
   "cell_type": "code",
   "execution_count": 8,
   "id": "d44b9674",
   "metadata": {},
   "outputs": [],
   "source": [
    "RE= np.float32(RE)"
   ]
  },
  {
   "cell_type": "code",
   "execution_count": 9,
   "id": "50c541c2",
   "metadata": {},
   "outputs": [],
   "source": [
    "criteria = (cv2.TERM_CRITERIA_EPS + cv2.TERM_CRITERIA_MAX_ITER,100,0.85)"
   ]
  },
  {
   "cell_type": "code",
   "execution_count": 15,
   "id": "a4581837",
   "metadata": {},
   "outputs": [],
   "source": [
    "#cluster\n",
    "k = 4"
   ]
  },
  {
   "cell_type": "code",
   "execution_count": 16,
   "id": "ed96a5ac",
   "metadata": {},
   "outputs": [],
   "source": [
    "ret,label,center = cv2.kmeans(RE,k,None,criteria,10,cv2.KMEANS_PP_CENTERS)"
   ]
  },
  {
   "cell_type": "code",
   "execution_count": 17,
   "id": "15b045b1",
   "metadata": {},
   "outputs": [],
   "source": [
    "center = np.uint8(center)"
   ]
  },
  {
   "cell_type": "code",
   "execution_count": 18,
   "id": "7d1b3712",
   "metadata": {},
   "outputs": [],
   "source": [
    "res = center[label.flatten()]\n",
    "res_img = res.reshape((img2rgb.shape))"
   ]
  },
  {
   "cell_type": "code",
   "execution_count": 19,
   "id": "65ef002f",
   "metadata": {},
   "outputs": [],
   "source": [
    "cv2.imshow(\"orginal\",image)\n",
    "cv2.imshow(\"Segmented\",res_img)\n",
    "\n",
    "if cv2.waitKey(0) & 0xff == 27:\n",
    "    cv2.destroyAllWindows()"
   ]
  },
  {
   "cell_type": "code",
   "execution_count": null,
   "id": "2a1f9d00",
   "metadata": {},
   "outputs": [],
   "source": []
  }
 ],
 "metadata": {
  "kernelspec": {
   "display_name": "Python 3 (ipykernel)",
   "language": "python",
   "name": "python3"
  },
  "language_info": {
   "codemirror_mode": {
    "name": "ipython",
    "version": 3
   },
   "file_extension": ".py",
   "mimetype": "text/x-python",
   "name": "python",
   "nbconvert_exporter": "python",
   "pygments_lexer": "ipython3",
   "version": "3.9.16"
  }
 },
 "nbformat": 4,
 "nbformat_minor": 5
}
