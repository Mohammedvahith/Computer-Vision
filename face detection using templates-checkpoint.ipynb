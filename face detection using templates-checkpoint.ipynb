{
 "cells": [
  {
   "cell_type": "code",
   "execution_count": 1,
   "id": "4abbbc49",
   "metadata": {},
   "outputs": [],
   "source": [
    "import cv2\n",
    "import numpy as np"
   ]
  },
  {
   "cell_type": "code",
   "execution_count": 21,
   "id": "9d83a675",
   "metadata": {},
   "outputs": [],
   "source": [
    "img_rgb = cv2.imread(\"Report-Henry-Cavill-Signs-On-For-Justice-League-2-01.jpg\")\n",
    "img_gray = cv2.cvtColor(img_rgb,cv2.COLOR_BGR2GRAY)\n",
    "template = cv2.imread(\"Ben-Affleck-Batman.jpg\",0)"
   ]
  },
  {
   "cell_type": "code",
   "execution_count": 22,
   "id": "1fc79951",
   "metadata": {},
   "outputs": [],
   "source": [
    "height, width = template.shape[::]\n",
    "  \n",
    "match = cv2.matchTemplate(img_gray,template,cv2.TM_SQDIFF)\n",
    "\n",
    "min_val,max_val,min_loc,max_loc = cv2.minMaxLoc(match)\n",
    "\n",
    "top_left = min_loc  # change to max_loc for all except for TM_SQDIFF\n",
    "\n",
    "bottom_right = (top_left[0]+width,top_left[1] + height)\n",
    "\n",
    "cv2.rectangle(img_rgb, top_left,bottom_right,(0,0,255),2)\n",
    "\n",
    "cv2.imshow(\"matched img\",img_rgb)\n",
    "cv2.waitKey(0)\n",
    "cv2.destroyAllWindows()"
   ]
  }
 ],
 "metadata": {
  "kernelspec": {
   "display_name": "Python 3 (ipykernel)",
   "language": "python",
   "name": "python3"
  },
  "language_info": {
   "codemirror_mode": {
    "name": "ipython",
    "version": 3
   },
   "file_extension": ".py",
   "mimetype": "text/x-python",
   "name": "python",
   "nbconvert_exporter": "python",
   "pygments_lexer": "ipython3",
   "version": "3.9.16"
  }
 },
 "nbformat": 4,
 "nbformat_minor": 5
}
