{
 "cells": [
  {
   "cell_type": "code",
   "execution_count": 1,
   "id": "bc18f5bf",
   "metadata": {},
   "outputs": [],
   "source": [
    "import cv2\n",
    "import numpy as np"
   ]
  },
  {
   "cell_type": "code",
   "execution_count": 20,
   "id": "57e1d9fb",
   "metadata": {},
   "outputs": [
    {
     "data": {
      "text/plain": [
       "-1"
      ]
     },
     "execution_count": 20,
     "metadata": {},
     "output_type": "execute_result"
    }
   ],
   "source": [
    "img=cv2.imread('img0.jpg',0)\n",
    "img1=cv2.resize(img,(1000,800))\n",
    "cv2.imshow('resize',img1)\n",
    "cv2.waitKey(0)"
   ]
  },
  {
   "cell_type": "markdown",
   "id": "3b6e3187",
   "metadata": {},
   "source": [
    "#  structuring element  or kernal"
   ]
  },
  {
   "cell_type": "code",
   "execution_count": 37,
   "id": "dc4fb330",
   "metadata": {},
   "outputs": [],
   "source": [
    "kernal =np.ones((10,10),np.uint8)"
   ]
  },
  {
   "cell_type": "markdown",
   "id": "4f751fad",
   "metadata": {},
   "source": [
    "# Erosion"
   ]
  },
  {
   "cell_type": "code",
   "execution_count": 22,
   "id": "2495885c",
   "metadata": {},
   "outputs": [],
   "source": [
    "erosion = cv2.erode(img1,kernal,iterations = 7)"
   ]
  },
  {
   "cell_type": "markdown",
   "id": "3949b6e0",
   "metadata": {},
   "source": [
    "# Display Erosion"
   ]
  },
  {
   "cell_type": "code",
   "execution_count": 23,
   "id": "c67bd0d7",
   "metadata": {},
   "outputs": [],
   "source": [
    "cv2.imshow('original',img1)\n",
    "cv2.imshow('erosion',erosion)\n",
    "cv2.waitKey(0)\n",
    "cv2.destroyAllWindows()"
   ]
  },
  {
   "cell_type": "markdown",
   "id": "2a1b77e8",
   "metadata": {},
   "source": [
    "# dilation"
   ]
  },
  {
   "cell_type": "code",
   "execution_count": 24,
   "id": "87451919",
   "metadata": {},
   "outputs": [],
   "source": [
    "dilation = cv2.dilate(img1,kernal,iterations = 3)"
   ]
  },
  {
   "cell_type": "code",
   "execution_count": 34,
   "id": "03ad509a",
   "metadata": {},
   "outputs": [],
   "source": [
    "cv2.imshow('original',img1)\n",
    "cv2.imshow('erosion',erosion)\n",
    "cv2.imshow('dilation',dilation)\n",
    "cv2.waitKey(0)\n",
    "cv2.destroyAllWindows()"
   ]
  },
  {
   "cell_type": "markdown",
   "id": "cb8a8479",
   "metadata": {},
   "source": [
    " # morphological image\n"
   ]
  },
  {
   "cell_type": "code",
   "execution_count": 38,
   "id": "cc865ed3",
   "metadata": {},
   "outputs": [],
   "source": [
    "open = cv2.morphologyEx(img1,cv2.MORPH_OPEN,kernal)"
   ]
  },
  {
   "cell_type": "markdown",
   "id": "791ba844",
   "metadata": {},
   "source": [
    "# Display-Morphological Opening"
   ]
  },
  {
   "cell_type": "code",
   "execution_count": 39,
   "id": "c0845cfa",
   "metadata": {},
   "outputs": [],
   "source": [
    "cv2.imshow('original',img1)\n",
    "cv2.imshow('MORPH OPEN', open)\n",
    "cv2.waitKey(0)\n",
    "cv2.destroyAllWindows()"
   ]
  },
  {
   "cell_type": "markdown",
   "id": "c11f19d1",
   "metadata": {},
   "source": [
    "# Morphological Closing - Dilation followed by erosion"
   ]
  },
  {
   "cell_type": "code",
   "execution_count": 40,
   "id": "a470b4c4",
   "metadata": {},
   "outputs": [],
   "source": [
    "close = cv2.morphologyEx(img1,cv2.MORPH_CLOSE,kernal)"
   ]
  },
  {
   "cell_type": "markdown",
   "id": "d2341320",
   "metadata": {},
   "source": [
    "# Display-Morphological Closing"
   ]
  },
  {
   "cell_type": "code",
   "execution_count": 44,
   "id": "94168fb9",
   "metadata": {},
   "outputs": [],
   "source": [
    "cv2.imshow('original',img1)\n",
    "cv2.imshow('MORPH CLOSE', close)\n",
    "cv2.waitKey(0)\n",
    "cv2.destroyAllWindows()"
   ]
  },
  {
   "cell_type": "code",
   "execution_count": 42,
   "id": "4a231a6d",
   "metadata": {},
   "outputs": [],
   "source": [
    "cv2.imshow('MORPH OPEN', open)\n",
    "cv2.imshow('MORPH CLOSE', close)\n",
    "cv2.waitKey(0)\n",
    "cv2.destroyAllWindows()"
   ]
  },
  {
   "cell_type": "markdown",
   "id": "3669c5e5",
   "metadata": {},
   "source": [
    "# Morphological Gradient - errosion,dilation,difference of both."
   ]
  },
  {
   "cell_type": "code",
   "execution_count": 43,
   "id": "34dd9219",
   "metadata": {},
   "outputs": [],
   "source": [
    "gradient = cv2.morphologyEx(img1,cv2.MORPH_GRADIENT,kernal)"
   ]
  },
  {
   "cell_type": "markdown",
   "id": "412cfadd",
   "metadata": {},
   "source": [
    "#  Display-Morphological Gradient"
   ]
  },
  {
   "cell_type": "code",
   "execution_count": 46,
   "id": "51a3bb8c",
   "metadata": {},
   "outputs": [],
   "source": [
    "cv2.imshow('original',img1)\n",
    "cv2.imshow('MORPH GRADIENT',gradient)\n",
    "cv2.waitKey(0)\n",
    "cv2.destroyAllWindows()"
   ]
  },
  {
   "cell_type": "markdown",
   "id": "e1b02d9e",
   "metadata": {},
   "source": [
    "# Top Hat - Opening and Original DIFFERENCE"
   ]
  },
  {
   "cell_type": "code",
   "execution_count": 47,
   "id": "749a3571",
   "metadata": {},
   "outputs": [],
   "source": [
    "tophat = cv2.morphologyEx(img1,cv2.MORPH_TOPHAT,kernal)"
   ]
  },
  {
   "cell_type": "markdown",
   "id": "12b36560",
   "metadata": {},
   "source": [
    "# Display- Top Hat"
   ]
  },
  {
   "cell_type": "code",
   "execution_count": 48,
   "id": "b172add4",
   "metadata": {},
   "outputs": [],
   "source": [
    "cv2.imshow('original',img1)\n",
    "cv2.imshow('TOP HAT',tophat)\n",
    "cv2.waitKey(0)\n",
    "cv2.destroyAllWindows()"
   ]
  },
  {
   "cell_type": "markdown",
   "id": "0f016a89",
   "metadata": {},
   "source": [
    "# Black Hat - Oppsite of Top Hat  "
   ]
  },
  {
   "cell_type": "code",
   "execution_count": 50,
   "id": "da39dd1a",
   "metadata": {},
   "outputs": [],
   "source": [
    "blackhat=  cv2.morphologyEx(img1,cv2.MORPH_BLACKHAT,kernal)"
   ]
  },
  {
   "cell_type": "markdown",
   "id": "472cfda7",
   "metadata": {},
   "source": [
    "# Display- Black Hat"
   ]
  },
  {
   "cell_type": "code",
   "execution_count": 51,
   "id": "9fe3d3ec",
   "metadata": {},
   "outputs": [],
   "source": [
    "cv2.imshow('original',img1)\n",
    "cv2.imshow('BLACK HAT',blackhat)\n",
    "cv2.waitKey(0)\n",
    "cv2.destroyAllWindows()"
   ]
  },
  {
   "cell_type": "markdown",
   "id": "d8d0a236",
   "metadata": {},
   "source": [
    "# ALL OUTPUT"
   ]
  },
  {
   "cell_type": "code",
   "execution_count": 53,
   "id": "6c9890f4",
   "metadata": {},
   "outputs": [],
   "source": [
    "cv2.imshow('original',img1)\n",
    "cv2.waitKey(0)\n",
    "cv2.imshow('erosion',erosion)\n",
    "cv2.waitKey(0)\n",
    "cv2.imshow('dilation',dilation)\n",
    "cv2.waitKey(0)\n",
    "cv2.imshow('MORPH OPEN', open)\n",
    "cv2.waitKey(0)\n",
    "cv2.imshow('MORPH CLOSE', close)\n",
    "cv2.waitKey(0)\n",
    "cv2.imshow('MORPH GRADIENT',gradient)\n",
    "cv2.waitKey(0)\n",
    "cv2.imshow('TOP HAT',tophat)\n",
    "cv2.waitKey(0)\n",
    "cv2.imshow('BLACK HAT',blackhat)\n",
    "cv2.waitKey(0)\n",
    "cv2.destroyAllWindows()"
   ]
  },
  {
   "cell_type": "code",
   "execution_count": null,
   "id": "68846d85",
   "metadata": {},
   "outputs": [],
   "source": []
  }
 ],
 "metadata": {
  "kernelspec": {
   "display_name": "Python 3 (ipykernel)",
   "language": "python",
   "name": "python3"
  },
  "language_info": {
   "codemirror_mode": {
    "name": "ipython",
    "version": 3
   },
   "file_extension": ".py",
   "mimetype": "text/x-python",
   "name": "python",
   "nbconvert_exporter": "python",
   "pygments_lexer": "ipython3",
   "version": "3.9.16"
  }
 },
 "nbformat": 4,
 "nbformat_minor": 5
}
