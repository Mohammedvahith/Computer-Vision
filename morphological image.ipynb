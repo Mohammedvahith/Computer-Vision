{
 "cells": [
  {
   "cell_type": "code",
   "execution_count": 1,
   "id": "bc18f5bf",
   "metadata": {},
   "outputs": [],
   "source": [
    "import cv2\n",
    "import numpy as np"
   ]
  },
  {
   "cell_type": "code",
   "execution_count": 2,
   "id": "57e1d9fb",
   "metadata": {},
   "outputs": [],
   "source": [
    "img=cv2.imread('pic.jpg')"
   ]
  },
  {
   "cell_type": "markdown",
   "id": "3b6e3187",
   "metadata": {},
   "source": [
    "#  structuring element  or kernal"
   ]
  },
  {
   "cell_type": "code",
   "execution_count": 3,
   "id": "dc4fb330",
   "metadata": {},
   "outputs": [],
   "source": [
    "kernal =np.ones((3,3),np.uint8)"
   ]
  },
  {
   "cell_type": "markdown",
   "id": "4f751fad",
   "metadata": {},
   "source": [
    "# Erosion"
   ]
  },
  {
   "cell_type": "code",
   "execution_count": 20,
   "id": "2495885c",
   "metadata": {},
   "outputs": [],
   "source": [
    "erosion = cv2.erode(img,kernal,iterations = 7)"
   ]
  },
  {
   "cell_type": "markdown",
   "id": "3949b6e0",
   "metadata": {},
   "source": [
    "# Display Erosion"
   ]
  },
  {
   "cell_type": "code",
   "execution_count": 21,
   "id": "c67bd0d7",
   "metadata": {},
   "outputs": [],
   "source": [
    "cv2.imshow('original',img)\n",
    "cv2.imshow('erosion',erosion)\n",
    "cv2.waitKey(0)\n",
    "cv2.destroyAllWindows()"
   ]
  },
  {
   "cell_type": "markdown",
   "id": "2a1b77e8",
   "metadata": {},
   "source": [
    "# dilation"
   ]
  },
  {
   "cell_type": "code",
   "execution_count": 22,
   "id": "87451919",
   "metadata": {},
   "outputs": [],
   "source": [
    "dilation = cv2.dilate(img,kernal,iterations = 3)"
   ]
  },
  {
   "cell_type": "code",
   "execution_count": 25,
   "id": "03ad509a",
   "metadata": {},
   "outputs": [],
   "source": [
    "cv2.imshow('original',img)\n",
    "cv2.imshow('erosion',erosion)\n",
    "cv2.imshow('dilation',dilation)\n",
    "cv2.waitKey(0)\n",
    "cv2.destroyAllWindows()"
   ]
  },
  {
   "cell_type": "markdown",
   "id": "cb8a8479",
   "metadata": {},
   "source": [
    " # morphological image\n"
   ]
  },
  {
   "cell_type": "code",
   "execution_count": null,
   "id": "cc865ed3",
   "metadata": {},
   "outputs": [],
   "source": []
  },
  {
   "cell_type": "code",
   "execution_count": null,
   "id": "a470b4c4",
   "metadata": {},
   "outputs": [],
   "source": []
  },
  {
   "cell_type": "code",
   "execution_count": null,
   "id": "9fe8c980",
   "metadata": {},
   "outputs": [],
   "source": []
  },
  {
   "cell_type": "code",
   "execution_count": null,
   "id": "58080aae",
   "metadata": {},
   "outputs": [],
   "source": []
  },
  {
   "cell_type": "code",
   "execution_count": null,
   "id": "34dd9219",
   "metadata": {},
   "outputs": [],
   "source": []
  },
  {
   "cell_type": "code",
   "execution_count": null,
   "id": "234e1608",
   "metadata": {},
   "outputs": [],
   "source": []
  },
  {
   "cell_type": "code",
   "execution_count": null,
   "id": "51a3bb8c",
   "metadata": {},
   "outputs": [],
   "source": []
  },
  {
   "cell_type": "code",
   "execution_count": null,
   "id": "7f835910",
   "metadata": {},
   "outputs": [],
   "source": []
  },
  {
   "cell_type": "code",
   "execution_count": null,
   "id": "749a3571",
   "metadata": {},
   "outputs": [],
   "source": []
  },
  {
   "cell_type": "code",
   "execution_count": null,
   "id": "872b8e70",
   "metadata": {},
   "outputs": [],
   "source": []
  }
 ],
 "metadata": {
  "kernelspec": {
   "display_name": "Python 3 (ipykernel)",
   "language": "python",
   "name": "python3"
  },
  "language_info": {
   "codemirror_mode": {
    "name": "ipython",
    "version": 3
   },
   "file_extension": ".py",
   "mimetype": "text/x-python",
   "name": "python",
   "nbconvert_exporter": "python",
   "pygments_lexer": "ipython3",
   "version": "3.9.16"
  }
 },
 "nbformat": 4,
 "nbformat_minor": 5
}
