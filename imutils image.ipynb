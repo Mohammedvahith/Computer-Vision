{
 "cells": [
  {
   "cell_type": "code",
   "execution_count": 1,
   "id": "f8f3070b",
   "metadata": {},
   "outputs": [
    {
     "name": "stdout",
     "output_type": "stream",
     "text": [
      "Collecting imutils\n",
      "  Downloading imutils-0.5.4.tar.gz (17 kB)\n",
      "  Preparing metadata (setup.py): started\n",
      "  Preparing metadata (setup.py): finished with status 'done'\n",
      "Building wheels for collected packages: imutils\n",
      "  Building wheel for imutils (setup.py): started\n",
      "  Building wheel for imutils (setup.py): finished with status 'done'\n",
      "  Created wheel for imutils: filename=imutils-0.5.4-py3-none-any.whl size=25847 sha256=efa5a08614acc4098916191db6c4a988815cbf3dd915c74b1ccc349f8566e718\n",
      "  Stored in directory: c:\\users\\sn151\\appdata\\local\\pip\\cache\\wheels\\f4\\4b\\8b\\a9c23da464a09c6ad0a131c1752079bc85f9f1677c7b78e87d\n",
      "Successfully built imutils\n",
      "Installing collected packages: imutils\n",
      "Successfully installed imutils-0.5.4\n",
      "Note: you may need to restart the kernel to use updated packages.\n"
     ]
    }
   ],
   "source": [
    "pip install imutils"
   ]
  },
  {
   "cell_type": "code",
   "execution_count": 22,
   "id": "8959857d",
   "metadata": {},
   "outputs": [],
   "source": [
    "import cv2 \n",
    "import imutils\n",
    "  \n",
    "     \n",
    "# initializing the hog person\n",
    "# detector\n",
    "hog = cv2.HOGDescriptor()\n",
    "hog.setSVMDetector(cv2.HOGDescriptor_getDefaultPeopleDetector())\n",
    "\n",
    "# reading the image\n",
    "image = cv2.imread('src.jpg')\n",
    "\n",
    "# resizing the image\n",
    "image = imutils.resize(image,width=min(400,image.shape[1]))\n",
    "\n",
    "# Detectimg all the regions in the image that has a pedestrians inside it\n",
    "(regions, img) = hog.detectMultiScale(image, winStride=(3,10),padding=(3,5),scale=1.05)\n",
    "\n",
    "# Drawing the regions in the image \n",
    "for(x,y,w,h) in regions:\n",
    "    cv2.rectangle(image,(x,y),(x + w,y + h),(0, 255, 0),2)\n",
    "    \n",
    "    \n",
    "# Showimg the output Image\n",
    "cv2.imshow(\"Image\",image)\n",
    "cv2.waitKey(0)\n",
    "cv2.destroyAllWindows()"
   ]
  },
  {
   "cell_type": "code",
   "execution_count": null,
   "id": "188009d5",
   "metadata": {},
   "outputs": [],
   "source": [
    "from skimage.io import imread\n",
    "from skimage.transfrom import resize\n",
    "from skimage.feature import hog\n",
    "import matplotlib.pyplot as plt\n",
    "\n",
    "# reading the image\n",
    "img = imread('image.webp')\n",
    "plt.axis('off')\n",
    "plt.imshow(img)\n",
    "print(img.shape)\n",
    "\n",
    "# resizing image \n",
    "resized_img = resize(img, (128*4,64*4))\n",
    "plt.axis('off')\n",
    "plt.imshow(img)\n",
    "print(img.shape)"
   ]
  }
 ],
 "metadata": {
  "kernelspec": {
   "display_name": "Python 3 (ipykernel)",
   "language": "python",
   "name": "python3"
  },
  "language_info": {
   "codemirror_mode": {
    "name": "ipython",
    "version": 3
   },
   "file_extension": ".py",
   "mimetype": "text/x-python",
   "name": "python",
   "nbconvert_exporter": "python",
   "pygments_lexer": "ipython3",
   "version": "3.9.16"
  }
 },
 "nbformat": 4,
 "nbformat_minor": 5
}
