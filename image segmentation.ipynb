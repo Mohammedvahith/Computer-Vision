{
 "cells": [
  {
   "cell_type": "code",
   "execution_count": 1,
   "id": "a3ee0d03",
   "metadata": {},
   "outputs": [],
   "source": [
    "import cv2\n",
    "import numpy as np"
   ]
  },
  {
   "cell_type": "code",
   "execution_count": 2,
   "id": "ddc0df83",
   "metadata": {},
   "outputs": [],
   "source": [
    "img=cv2.imread('g.jpg')"
   ]
  },
  {
   "cell_type": "code",
   "execution_count": 3,
   "id": "81c15a80",
   "metadata": {},
   "outputs": [],
   "source": [
    "cv2.imshow(\"original\", img)\n",
    "cv2.waitKey(0)\n",
    "cv2.destroyAllWindows()"
   ]
  },
  {
   "cell_type": "markdown",
   "id": "c8cace27",
   "metadata": {},
   "source": [
    "# RGB CONVERSION"
   ]
  },
  {
   "cell_type": "code",
   "execution_count": 4,
   "id": "12258cdf",
   "metadata": {},
   "outputs": [],
   "source": [
    "imrgb = cv2.cvtColor(img,cv2.COLOR_BGR2RGB)"
   ]
  },
  {
   "cell_type": "markdown",
   "id": "61a73170",
   "metadata": {},
   "source": [
    "#  reshape"
   ]
  },
  {
   "cell_type": "code",
   "execution_count": 5,
   "id": "7b80e8cb",
   "metadata": {},
   "outputs": [],
   "source": [
    "vec = imrgb.reshape((-1,3))"
   ]
  },
  {
   "cell_type": "markdown",
   "id": "a23695ba",
   "metadata": {},
   "source": [
    "# float conversion"
   ]
  },
  {
   "cell_type": "code",
   "execution_count": 6,
   "id": "db4554d1",
   "metadata": {},
   "outputs": [],
   "source": [
    "vec = np.float32(vec)"
   ]
  },
  {
   "cell_type": "markdown",
   "id": "aa8a9824",
   "metadata": {},
   "source": [
    "# iterative termination criteria"
   ]
  },
  {
   "cell_type": "code",
   "execution_count": 7,
   "id": "81d1f5fe",
   "metadata": {},
   "outputs": [],
   "source": [
    "criteria = (cv2.TERM_CRITERIA_EPS +cv2.TERM_CRITERIA_MAX_ITER,100,1)"
   ]
  },
  {
   "cell_type": "markdown",
   "id": "8a4a75bf",
   "metadata": {},
   "source": [
    "# Cluster conditions"
   ]
  },
  {
   "cell_type": "code",
   "execution_count": 39,
   "id": "615bc579",
   "metadata": {},
   "outputs": [],
   "source": [
    "k = 10\n",
    "attempts = 5"
   ]
  },
  {
   "cell_type": "markdown",
   "id": "21ca7217",
   "metadata": {},
   "source": [
    "# KMEAN CLUSTERING"
   ]
  },
  {
   "cell_type": "code",
   "execution_count": 40,
   "id": "a1658251",
   "metadata": {},
   "outputs": [],
   "source": [
    "ret,label,center =cv2.kmeans(vec,k,None,criteria,attempts,cv2.KMEANS_PP_CENTERS)"
   ]
  },
  {
   "cell_type": "markdown",
   "id": "e635c54a",
   "metadata": {},
   "source": [
    "# UNIT CONVERSION"
   ]
  },
  {
   "cell_type": "code",
   "execution_count": 41,
   "id": "6e54275c",
   "metadata": {},
   "outputs": [],
   "source": [
    "center = np.uint8(center)"
   ]
  },
  {
   "cell_type": "markdown",
   "id": "31ceb1b9",
   "metadata": {},
   "source": [
    "# FLATTENING AND RESHAPE"
   ]
  },
  {
   "cell_type": "code",
   "execution_count": 42,
   "id": "ac4d1a7a",
   "metadata": {},
   "outputs": [],
   "source": [
    "res = center[label.flatten()]\n",
    "res_img = res.reshape((imrgb.shape))"
   ]
  },
  {
   "cell_type": "markdown",
   "id": "2583a539",
   "metadata": {},
   "source": [
    "# original & segmented image"
   ]
  },
  {
   "cell_type": "code",
   "execution_count": 43,
   "id": "887f1a0d",
   "metadata": {},
   "outputs": [],
   "source": [
    "cv2.imshow(\"original\", img)\n",
    "cv2.imshow(\"segmented\", res_img)\n",
    "\n",
    "if cv2.waitKey(0) & 0xff == 27:\n",
    "    cv2.destroyAllWindows()"
   ]
  },
  {
   "cell_type": "code",
   "execution_count": null,
   "id": "6c094f0c",
   "metadata": {},
   "outputs": [],
   "source": []
  },
  {
   "cell_type": "code",
   "execution_count": null,
   "id": "18db76ea",
   "metadata": {},
   "outputs": [],
   "source": []
  },
  {
   "cell_type": "code",
   "execution_count": null,
   "id": "80e64732",
   "metadata": {},
   "outputs": [],
   "source": []
  },
  {
   "cell_type": "code",
   "execution_count": null,
   "id": "d0c64bf7",
   "metadata": {},
   "outputs": [],
   "source": []
  },
  {
   "cell_type": "code",
   "execution_count": null,
   "id": "daf0637e",
   "metadata": {},
   "outputs": [],
   "source": []
  },
  {
   "cell_type": "code",
   "execution_count": null,
   "id": "4bc3b589",
   "metadata": {},
   "outputs": [],
   "source": []
  },
  {
   "cell_type": "code",
   "execution_count": null,
   "id": "9e657a40",
   "metadata": {},
   "outputs": [],
   "source": []
  },
  {
   "cell_type": "code",
   "execution_count": null,
   "id": "c72fb410",
   "metadata": {},
   "outputs": [],
   "source": []
  },
  {
   "cell_type": "code",
   "execution_count": null,
   "id": "c7888f5c",
   "metadata": {},
   "outputs": [],
   "source": []
  },
  {
   "cell_type": "code",
   "execution_count": null,
   "id": "1115d33e",
   "metadata": {},
   "outputs": [],
   "source": []
  },
  {
   "cell_type": "code",
   "execution_count": null,
   "id": "0afb47b0",
   "metadata": {},
   "outputs": [],
   "source": []
  },
  {
   "cell_type": "code",
   "execution_count": null,
   "id": "b9795e6b",
   "metadata": {},
   "outputs": [],
   "source": []
  },
  {
   "cell_type": "code",
   "execution_count": null,
   "id": "fa6bbf01",
   "metadata": {},
   "outputs": [],
   "source": []
  }
 ],
 "metadata": {
  "kernelspec": {
   "display_name": "Python 3 (ipykernel)",
   "language": "python",
   "name": "python3"
  },
  "language_info": {
   "codemirror_mode": {
    "name": "ipython",
    "version": 3
   },
   "file_extension": ".py",
   "mimetype": "text/x-python",
   "name": "python",
   "nbconvert_exporter": "python",
   "pygments_lexer": "ipython3",
   "version": "3.9.16"
  }
 },
 "nbformat": 4,
 "nbformat_minor": 5
}
