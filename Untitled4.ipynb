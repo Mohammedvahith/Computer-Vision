{
 "cells": [
  {
   "cell_type": "markdown",
   "id": "9e5953b6",
   "metadata": {},
   "source": [
    "# IMPORT LIBRARY"
   ]
  },
  {
   "cell_type": "code",
   "execution_count": 1,
   "id": "248bb31a",
   "metadata": {},
   "outputs": [],
   "source": [
    "import cv2\n",
    "import numpy as np"
   ]
  },
  {
   "cell_type": "markdown",
   "id": "50073663",
   "metadata": {},
   "source": [
    "# VIDEO READ"
   ]
  },
  {
   "cell_type": "code",
   "execution_count": 12,
   "id": "7b8fbe34",
   "metadata": {},
   "outputs": [],
   "source": [
    "view = cv2.VideoCapture(\"video.mp4\")"
   ]
  },
  {
   "cell_type": "markdown",
   "id": "467ead30",
   "metadata": {},
   "source": [
    "# DISPLAYING THE VIDEO"
   ]
  },
  {
   "cell_type": "code",
   "execution_count": 15,
   "id": "3ad7a4ae",
   "metadata": {},
   "outputs": [],
   "source": [
    "while(view.isOpened()):\n",
    "    ret, frame=view.read()\n",
    "    cv2.imshow('orgin',frame)\n",
    "    if cv2.waitKey(20) & 0xFF == ord('q'):\n",
    "        view.release()\n",
    "        cv2.destroyAllWindows()\n",
    "        break\n",
    "\n"
   ]
  },
  {
   "cell_type": "markdown",
   "id": "9e01d4d2",
   "metadata": {},
   "source": [
    "# WEBCAM CAPTURE"
   ]
  },
  {
   "cell_type": "code",
   "execution_count": 3,
   "id": "ae650de5",
   "metadata": {},
   "outputs": [],
   "source": [
    "vid = cv2.VideoCapture(0)"
   ]
  }
 ],
 "metadata": {
  "kernelspec": {
   "display_name": "Python 3 (ipykernel)",
   "language": "python",
   "name": "python3"
  },
  "language_info": {
   "codemirror_mode": {
    "name": "ipython",
    "version": 3
   },
   "file_extension": ".py",
   "mimetype": "text/x-python",
   "name": "python",
   "nbconvert_exporter": "python",
   "pygments_lexer": "ipython3",
   "version": "3.9.16"
  }
 },
 "nbformat": 4,
 "nbformat_minor": 5
}
