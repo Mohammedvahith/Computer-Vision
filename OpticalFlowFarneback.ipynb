{
 "cells": [
  {
   "cell_type": "code",
   "execution_count": 12,
   "id": "f3f193ab",
   "metadata": {},
   "outputs": [],
   "source": [
    "import cv2\n",
    "import numpy as np"
   ]
  },
  {
   "cell_type": "markdown",
   "id": "0b41b798",
   "metadata": {},
   "source": [
    "# video capture"
   ]
  },
  {
   "cell_type": "code",
   "execution_count": 13,
   "id": "4a5bd3b6",
   "metadata": {},
   "outputs": [],
   "source": [
    "cap = cv2.VideoCapture(\"video.mp4\")"
   ]
  },
  {
   "cell_type": "markdown",
   "id": "db8feda3",
   "metadata": {},
   "source": [
    "# reading & color conversion"
   ]
  },
  {
   "cell_type": "code",
   "execution_count": 14,
   "id": "980baeb6",
   "metadata": {},
   "outputs": [],
   "source": [
    "ret , frame =cap.read()\n",
    "prv =cv2.cvtColor(frame,cv2.COLOR_BGR2GRAY)"
   ]
  },
  {
   "cell_type": "markdown",
   "id": "0cb54da7",
   "metadata": {},
   "source": [
    "# ZERO MATRIX\n"
   ]
  },
  {
   "cell_type": "code",
   "execution_count": 17,
   "id": "5ad6da54",
   "metadata": {},
   "outputs": [],
   "source": [
    "hsv = np.zeros_like(frame)\n",
    "hsv[...,1] = 255"
   ]
  },
  {
   "cell_type": "markdown",
   "id": "4109ebd8",
   "metadata": {},
   "source": [
    "# DENSE OPTICAL"
   ]
  },
  {
   "cell_type": "code",
   "execution_count": 16,
   "id": "9193a3d9",
   "metadata": {},
   "outputs": [
    {
     "ename": "error",
     "evalue": "OpenCV(4.7.0) D:\\a\\opencv-python\\opencv-python\\opencv\\modules\\imgproc\\src\\color.cpp:182: error: (-215:Assertion failed) !_src.empty() in function 'cv::cvtColor'\n",
     "output_type": "error",
     "traceback": [
      "\u001b[1;31m---------------------------------------------------------------------------\u001b[0m",
      "\u001b[1;31merror\u001b[0m                                     Traceback (most recent call last)",
      "Cell \u001b[1;32mIn[16], line 6\u001b[0m\n\u001b[0;32m      4\u001b[0m \u001b[38;5;28;01mwhile\u001b[39;00m(\u001b[38;5;241m1\u001b[39m):\n\u001b[0;32m      5\u001b[0m     ret,fra \u001b[38;5;241m=\u001b[39m cap\u001b[38;5;241m.\u001b[39mread()\n\u001b[1;32m----> 6\u001b[0m     \u001b[38;5;28mnext\u001b[39m \u001b[38;5;241m=\u001b[39m \u001b[43mcv2\u001b[49m\u001b[38;5;241;43m.\u001b[39;49m\u001b[43mcvtColor\u001b[49m\u001b[43m(\u001b[49m\u001b[43mfra\u001b[49m\u001b[43m,\u001b[49m\u001b[43mcv2\u001b[49m\u001b[38;5;241;43m.\u001b[39;49m\u001b[43mCOLOR_BGR2GRAY\u001b[49m\u001b[43m)\u001b[49m\n\u001b[0;32m      8\u001b[0m     flow \u001b[38;5;241m=\u001b[39m cv2\u001b[38;5;241m.\u001b[39mcalcOpticalFlowFarneback(prv,\u001b[38;5;28mnext\u001b[39m,\u001b[38;5;28;01mNone\u001b[39;00m,\u001b[38;5;241m0.5\u001b[39m,\u001b[38;5;241m3\u001b[39m,\u001b[38;5;241m15\u001b[39m,\u001b[38;5;241m3\u001b[39m,\u001b[38;5;241m5\u001b[39m,\u001b[38;5;241m1.2\u001b[39m,\u001b[38;5;241m0\u001b[39m)\n\u001b[0;32m     10\u001b[0m     mag, ang \u001b[38;5;241m=\u001b[39m cv2\u001b[38;5;241m.\u001b[39mcartToPolar(flow[\u001b[38;5;241m.\u001b[39m\u001b[38;5;241m.\u001b[39m\u001b[38;5;241m.\u001b[39m,\u001b[38;5;241m0\u001b[39m],flow[\u001b[38;5;241m.\u001b[39m\u001b[38;5;241m.\u001b[39m\u001b[38;5;241m.\u001b[39m,\u001b[38;5;241m1\u001b[39m])\n",
      "\u001b[1;31merror\u001b[0m: OpenCV(4.7.0) D:\\a\\opencv-python\\opencv-python\\opencv\\modules\\imgproc\\src\\color.cpp:182: error: (-215:Assertion failed) !_src.empty() in function 'cv::cvtColor'\n"
     ]
    }
   ],
   "source": [
    "while(1):\n",
    "    ret,fra = cap.read()\n",
    "    next = cv2.cvtColor(fra,cv2.COLOR_BGR2GRAY)\n",
    "#cv2.calcOpticalFlowFarneback(prev, next, pyr_scale,level, winsize,iterations,poly_n, poly_sigma,flag[,flow])\n",
    "    flow = cv2.calcOpticalFlowFarneback(prv,next,None,0.5,3,15,3,5,1.2,0)\n",
    "    \n",
    "    mag, ang = cv2.cartToPolar(flow[...,0],flow[...,1])\n",
    "    hsv[...,0] = ang*180/np.pi/2\n",
    "    hsv[...,2] = cv2.normalize(mag,None,0,255,cv2.NORM_MINMAX)\n",
    "    rgb = cv2.cvtColor(hsv,cv2.COLOR_HSV2BGR)\n",
    "    \n",
    "    \n",
    "    cv2.imshow(\"frame\",rgb)\n",
    "    k = cv2.waitKey(1) & 0xFF\n",
    "\n",
    "    if k == 27:\n",
    "        break\n",
    "\n",
    "cap.release()\n",
    "cv2.destroyAllWindows()"
   ]
  }
 ],
 "metadata": {
  "kernelspec": {
   "display_name": "Python 3 (ipykernel)",
   "language": "python",
   "name": "python3"
  },
  "language_info": {
   "codemirror_mode": {
    "name": "ipython",
    "version": 3
   },
   "file_extension": ".py",
   "mimetype": "text/x-python",
   "name": "python",
   "nbconvert_exporter": "python",
   "pygments_lexer": "ipython3",
   "version": "3.9.16"
  }
 },
 "nbformat": 4,
 "nbformat_minor": 5
}
