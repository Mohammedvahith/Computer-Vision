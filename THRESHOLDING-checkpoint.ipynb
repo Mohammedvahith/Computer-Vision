{
 "cells": [
  {
   "cell_type": "markdown",
   "id": "6a7e8654",
   "metadata": {},
   "source": [
    "\n",
    "# import library"
   ]
  },
  {
   "cell_type": "code",
   "execution_count": 1,
   "id": "b8ba903b",
   "metadata": {},
   "outputs": [],
   "source": [
    "import cv2"
   ]
  },
  {
   "cell_type": "markdown",
   "id": "696be024",
   "metadata": {},
   "source": [
    "# reading image"
   ]
  },
  {
   "cell_type": "code",
   "execution_count": 2,
   "id": "6ad2cf15",
   "metadata": {},
   "outputs": [],
   "source": [
    "img=cv2.imread('01.png')\n",
    "img1=cv2.resize(img,(700,716))"
   ]
  },
  {
   "cell_type": "code",
   "execution_count": 3,
   "id": "7c9b9f0f",
   "metadata": {},
   "outputs": [],
   "source": [
    "cv2.imshow(\"actual\",img)\n",
    "cv2.imshow(\"resized\",img1)\n",
    "cv2.waitKey(0)\n",
    "cv2.destroyAllWindows()"
   ]
  },
  {
   "cell_type": "markdown",
   "id": "c9057558",
   "metadata": {},
   "source": [
    "# Grayscale conversion"
   ]
  },
  {
   "cell_type": "code",
   "execution_count": 4,
   "id": "5c6ab7ad",
   "metadata": {},
   "outputs": [],
   "source": [
    "img1g=cv2.cvtColor(img1,cv2.COLOR_BGR2GRAY)"
   ]
  },
  {
   "cell_type": "markdown",
   "id": "cc740747",
   "metadata": {},
   "source": [
    " # Display image - actual & grayscale"
   ]
  },
  {
   "cell_type": "code",
   "execution_count": 5,
   "id": "50c5caed",
   "metadata": {},
   "outputs": [],
   "source": [
    "cv2.imshow(\"colour\", img1)\n",
    "cv2.imshow(\"grey\", img1g)\n",
    "cv2.waitKey()\n",
    "cv2.destroyAllWindows()"
   ]
  },
  {
   "cell_type": "markdown",
   "id": "fa0e10b2",
   "metadata": {},
   "source": [
    "# image thesholding(simple) - B&W Image\n"
   ]
  },
  {
   "cell_type": "code",
   "execution_count": 6,
   "id": "8f2e2101",
   "metadata": {},
   "outputs": [],
   "source": [
    "ret,tresh6 = cv2.threshold(img1g,15,150,cv2.THRESH_BINARY)\n",
    "ret,tresh7 = cv2.threshold(img1g,15,250,cv2.THRESH_BINARY_INV)\n",
    "ret,tresh8 = cv2.threshold(img1g,15,250,cv2.THRESH_TRUNC)\n",
    "ret,tresh9 = cv2.threshold(img1g,15,250,cv2.THRESH_TOZERO)\n",
    "ret,tresh10 = cv2.threshold(img1g,15,50,cv2.THRESH_TOZERO_INV)"
   ]
  },
  {
   "cell_type": "code",
   "execution_count": 7,
   "id": "d897281b",
   "metadata": {},
   "outputs": [],
   "source": [
    "# Display the B&W threshold\n",
    "cv2.imshow(\"actual\", img1)\n",
    "cv2.imshow(\"Binary threshold\", tresh6)\n",
    "cv2.imshow(\"Binary threshold inverted\", tresh7)\n",
    "cv2.imshow(\"Truncated Threshold\", tresh8)\n",
    "cv2.imshow(\"set to 0\", tresh9)\n",
    "cv2.imshow(\"set to 0 Inverted\", tresh10)\n",
    "cv2.waitKey()\n",
    "cv2.destroyAllWindows()"
   ]
  },
  {
   "cell_type": "markdown",
   "id": "659fa8fb",
   "metadata": {},
   "source": [
    " # median filter"
   ]
  },
  {
   "cell_type": "code",
   "execution_count": 8,
   "id": "5e245383",
   "metadata": {},
   "outputs": [],
   "source": [
    "img1m =cv2.medianBlur(tresh6,1)"
   ]
  },
  {
   "cell_type": "code",
   "execution_count": 9,
   "id": "fa4afa8c",
   "metadata": {},
   "outputs": [
    {
     "data": {
      "text/plain": [
       "-1"
      ]
     },
     "execution_count": 9,
     "metadata": {},
     "output_type": "execute_result"
    }
   ],
   "source": [
    "cv2.imshow(\"actual\", img1m)\n",
    "cv2.waitKey()"
   ]
  },
  {
   "cell_type": "markdown",
   "id": "83025789",
   "metadata": {},
   "source": [
    "#  simple thresholding - Binary"
   ]
  },
  {
   "cell_type": "code",
   "execution_count": 10,
   "id": "81257f6b",
   "metadata": {},
   "outputs": [],
   "source": [
    "img1g=cv2.cvtColor(img1 ,cv2.COLOR_BGR2GRAY)"
   ]
  },
  {
   "cell_type": "code",
   "execution_count": 11,
   "id": "4f89260f",
   "metadata": {},
   "outputs": [],
   "source": [
    "ret,th1 =cv2.threshold(img1g,155,255,cv2.THRESH_BINARY)\n",
    "ath1 =cv2.adaptiveThreshold(img1g,255,cv2.ADAPTIVE_THRESH_MEAN_C,cv2.THRESH_BINARY,11,2)\n",
    "ath2 =cv2.adaptiveThreshold(img1g,255,cv2.ADAPTIVE_THRESH_GAUSSIAN_C,cv2.THRESH_BINARY,11,2)"
   ]
  },
  {
   "cell_type": "code",
   "execution_count": 12,
   "id": "82bd2d2d",
   "metadata": {},
   "outputs": [],
   "source": [
    "cv2.imshow(\"original\", img1g)\n",
    "cv2.imshow(\"global\", th1)\n",
    "cv2.imshow(\"adaptive mean\", ath1)\n",
    "cv2.imshow(\"adaptive gaussian\", ath2)\n",
    "cv2.waitKey()\n",
    "cv2.destroyAllWindows()\n"
   ]
  },
  {
   "cell_type": "markdown",
   "id": "7b00e3d8",
   "metadata": {},
   "source": [
    "\n",
    "# otsu thresholding"
   ]
  },
  {
   "cell_type": "code",
   "execution_count": 21,
   "id": "04d2a697",
   "metadata": {},
   "outputs": [],
   "source": [
    "re,THRESH = cv2.threshold(img1g,0,255,cv2.THRESH_BINARY)"
   ]
  },
  {
   "cell_type": "code",
   "execution_count": 26,
   "id": "29becfee",
   "metadata": {},
   "outputs": [],
   "source": [
    "re,otsu = cv2.threshold(img1g,0,255,cv2.THRESH_OTSU)"
   ]
  },
  {
   "cell_type": "code",
   "execution_count": null,
   "id": "50b00616",
   "metadata": {},
   "outputs": [],
   "source": [
    "cv2.imshow(\"original\", img1g)\n",
    "cv2.imshow(\"THRESH\", THRESH)\n",
    "cv2.imshow(\"otsu\", otsu)\n",
    "cv2.waitKey()\n",
    "cv2.destroyAllWindows()"
   ]
  },
  {
   "cell_type": "code",
   "execution_count": null,
   "id": "31ee5564",
   "metadata": {},
   "outputs": [],
   "source": []
  }
 ],
 "metadata": {
  "kernelspec": {
   "display_name": "Python 3 (ipykernel)",
   "language": "python",
   "name": "python3"
  },
  "language_info": {
   "codemirror_mode": {
    "name": "ipython",
    "version": 3
   },
   "file_extension": ".py",
   "mimetype": "text/x-python",
   "name": "python",
   "nbconvert_exporter": "python",
   "pygments_lexer": "ipython3",
   "version": "3.9.16"
  }
 },
 "nbformat": 4,
 "nbformat_minor": 5
}
