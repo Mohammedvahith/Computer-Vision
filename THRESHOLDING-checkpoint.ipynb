{
 "cells": [
  {
   "cell_type": "markdown",
   "id": "6a7e8654",
   "metadata": {},
   "source": [
    "# import library"
   ]
  },
  {
   "cell_type": "code",
   "execution_count": 1,
   "id": "b8ba903b",
   "metadata": {},
   "outputs": [],
   "source": [
    "import cv2"
   ]
  },
  {
   "cell_type": "markdown",
   "id": "696be024",
   "metadata": {},
   "source": [
    "# reading image"
   ]
  },
  {
   "cell_type": "code",
   "execution_count": 12,
   "id": "6ad2cf15",
   "metadata": {},
   "outputs": [],
   "source": [
    "img=cv2.imread('01.png')\n",
    "img1=cv2.resize(img,(700,716))"
   ]
  },
  {
   "cell_type": "code",
   "execution_count": 13,
   "id": "7c9b9f0f",
   "metadata": {},
   "outputs": [
    {
     "data": {
      "text/plain": [
       "-1"
      ]
     },
     "execution_count": 13,
     "metadata": {},
     "output_type": "execute_result"
    }
   ],
   "source": [
    "cv2.imshow(\"actual\",img)\n",
    "cv2.imshow(\"resized\",img1)\n",
    "cv2.waitKey(0)"
   ]
  },
  {
   "cell_type": "markdown",
   "id": "c9057558",
   "metadata": {},
   "source": [
    "# Grayscale conversion"
   ]
  },
  {
   "cell_type": "code",
   "execution_count": 14,
   "id": "5c6ab7ad",
   "metadata": {},
   "outputs": [],
   "source": [
    "img1g=cv2.cvtColor(img1,cv2.COLOR_BGR2GRAY)"
   ]
  },
  {
   "cell_type": "markdown",
   "id": "cc740747",
   "metadata": {},
   "source": [
    " # Display image - actual & grayscale"
   ]
  },
  {
   "cell_type": "code",
   "execution_count": 15,
   "id": "50c5caed",
   "metadata": {},
   "outputs": [],
   "source": [
    "cv2.imshow(\"colour\", img1)\n",
    "cv2.imshow(\"grey\", img1g)\n",
    "cv2.waitKey()\n",
    "cv2.destroyAllWindows()"
   ]
  },
  {
   "cell_type": "markdown",
   "id": "fa0e10b2",
   "metadata": {},
   "source": [
    "# image thesholding(simple) - B&W Image\n"
   ]
  },
  {
   "cell_type": "code",
   "execution_count": 17,
   "id": "8f2e2101",
   "metadata": {},
   "outputs": [],
   "source": [
    "ret,tresh6 = cv2.threshold(img1g,15,150,cv2.THRESH_BINARY)\n",
    "ret,tresh7 = cv2.threshold(img1g,15,150,cv2.THRESH_BINARY_INV)\n",
    "ret,tresh8 = cv2.threshold(img1g,15,150,cv2.THRESH_TRUNC)\n",
    "ret,tresh9 = cv2.threshold(img1g,15,150,cv2.THRESH_TOZERO)\n",
    "ret,tresh10 = cv2.threshold(img1g,15,150,cv2.THRESH_TOZERO_INV)"
   ]
  },
  {
   "cell_type": "code",
   "execution_count": 18,
   "id": "d897281b",
   "metadata": {},
   "outputs": [],
   "source": [
    "# Display the B&W threshold\n",
    "cv2.imshow(\"actual\", img1)\n",
    "cv2.imshow(\"Binary threshold\", tresh6)\n",
    "cv2.imshow(\"Binary threshold inverted\", tresh7)\n",
    "cv2.imshow(\"Truncated Threshold\", tresh8)\n",
    "cv2.imshow(\"set to 0\", tresh9)\n",
    "cv2.imshow(\"set to 0 Inverted\", tresh10)\n",
    "cv2.waitKey()\n",
    "cv2.destroyAllWindows()"
   ]
  },
  {
   "cell_type": "code",
   "execution_count": null,
   "id": "c55b959e",
   "metadata": {},
   "outputs": [],
   "source": []
  },
  {
   "cell_type": "code",
   "execution_count": null,
   "id": "4688735d",
   "metadata": {},
   "outputs": [],
   "source": []
  }
 ],
 "metadata": {
  "kernelspec": {
   "display_name": "Python 3 (ipykernel)",
   "language": "python",
   "name": "python3"
  },
  "language_info": {
   "codemirror_mode": {
    "name": "ipython",
    "version": 3
   },
   "file_extension": ".py",
   "mimetype": "text/x-python",
   "name": "python",
   "nbconvert_exporter": "python",
   "pygments_lexer": "ipython3",
   "version": "3.9.16"
  }
 },
 "nbformat": 4,
 "nbformat_minor": 5
}
